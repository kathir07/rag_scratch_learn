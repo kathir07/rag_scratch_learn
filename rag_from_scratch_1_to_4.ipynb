{
 "cells": [
  {
   "cell_type": "markdown",
   "metadata": {},
   "source": [
    "Packages"
   ]
  },
  {
   "cell_type": "code",
   "execution_count": 5,
   "metadata": {},
   "outputs": [
    {
     "name": "stdout",
     "output_type": "stream",
     "text": [
      "Requirement already satisfied: langchain_community in .\\rag_scratch\\lib\\site-packages (0.3.2)\n",
      "Requirement already satisfied: tiktoken in .\\rag_scratch\\lib\\site-packages (0.8.0)\n",
      "Requirement already satisfied: langchain-huggingface in .\\rag_scratch\\lib\\site-packages (0.1.0)\n",
      "Requirement already satisfied: langchainhub in .\\rag_scratch\\lib\\site-packages (0.1.21)\n",
      "Requirement already satisfied: chromadb in .\\rag_scratch\\lib\\site-packages (0.5.13)\n",
      "Requirement already satisfied: langchain in .\\rag_scratch\\lib\\site-packages (0.3.3)\n",
      "Requirement already satisfied: langsmith<0.2.0,>=0.1.125 in .\\rag_scratch\\lib\\site-packages (from langchain_community) (0.1.135)\n",
      "Requirement already satisfied: pydantic-settings<3.0.0,>=2.4.0 in .\\rag_scratch\\lib\\site-packages (from langchain_community) (2.5.2)\n",
      "Requirement already satisfied: numpy<2,>=1 in .\\rag_scratch\\lib\\site-packages (from langchain_community) (1.26.4)\n",
      "Requirement already satisfied: SQLAlchemy<3,>=1.4 in .\\rag_scratch\\lib\\site-packages (from langchain_community) (2.0.36)\n",
      "Requirement already satisfied: aiohttp<4.0.0,>=3.8.3 in .\\rag_scratch\\lib\\site-packages (from langchain_community) (3.10.10)\n",
      "Requirement already satisfied: PyYAML>=5.3 in .\\rag_scratch\\lib\\site-packages (from langchain_community) (6.0.2)\n",
      "Requirement already satisfied: requests<3,>=2 in .\\rag_scratch\\lib\\site-packages (from langchain_community) (2.32.3)\n",
      "Requirement already satisfied: tenacity!=8.4.0,<9.0.0,>=8.1.0 in .\\rag_scratch\\lib\\site-packages (from langchain_community) (8.5.0)\n",
      "Requirement already satisfied: dataclasses-json<0.7,>=0.5.7 in .\\rag_scratch\\lib\\site-packages (from langchain_community) (0.6.7)\n",
      "Requirement already satisfied: langchain-core<0.4.0,>=0.3.10 in .\\rag_scratch\\lib\\site-packages (from langchain_community) (0.3.10)\n",
      "Requirement already satisfied: regex>=2022.1.18 in .\\rag_scratch\\lib\\site-packages (from tiktoken) (2024.9.11)\n",
      "Requirement already satisfied: sentence-transformers>=2.6.0 in .\\rag_scratch\\lib\\site-packages (from langchain-huggingface) (3.2.0)\n",
      "Requirement already satisfied: tokenizers>=0.19.1 in .\\rag_scratch\\lib\\site-packages (from langchain-huggingface) (0.20.1)\n",
      "Requirement already satisfied: transformers>=4.39.0 in .\\rag_scratch\\lib\\site-packages (from langchain-huggingface) (4.45.2)\n",
      "Requirement already satisfied: huggingface-hub>=0.23.0 in .\\rag_scratch\\lib\\site-packages (from langchain-huggingface) (0.25.2)\n",
      "Requirement already satisfied: packaging<25,>=23.2 in .\\rag_scratch\\lib\\site-packages (from langchainhub) (24.1)\n",
      "Requirement already satisfied: types-requests<3.0.0.0,>=2.31.0.2 in .\\rag_scratch\\lib\\site-packages (from langchainhub) (2.32.0.20241016)\n",
      "Requirement already satisfied: typer>=0.9.0 in .\\rag_scratch\\lib\\site-packages (from chromadb) (0.12.5)\n",
      "Requirement already satisfied: grpcio>=1.58.0 in .\\rag_scratch\\lib\\site-packages (from chromadb) (1.67.0)\n",
      "Requirement already satisfied: importlib-resources in .\\rag_scratch\\lib\\site-packages (from chromadb) (6.4.5)\n",
      "Requirement already satisfied: mmh3>=4.0.1 in .\\rag_scratch\\lib\\site-packages (from chromadb) (5.0.1)\n",
      "Requirement already satisfied: fastapi>=0.95.2 in .\\rag_scratch\\lib\\site-packages (from chromadb) (0.115.2)\n",
      "Requirement already satisfied: opentelemetry-instrumentation-fastapi>=0.41b0 in .\\rag_scratch\\lib\\site-packages (from chromadb) (0.48b0)\n",
      "Requirement already satisfied: rich>=10.11.0 in .\\rag_scratch\\lib\\site-packages (from chromadb) (13.9.2)\n",
      "Requirement already satisfied: httpx>=0.27.0 in .\\rag_scratch\\lib\\site-packages (from chromadb) (0.27.2)\n",
      "Requirement already satisfied: posthog>=2.4.0 in .\\rag_scratch\\lib\\site-packages (from chromadb) (3.7.0)\n",
      "Requirement already satisfied: chroma-hnswlib==0.7.6 in .\\rag_scratch\\lib\\site-packages (from chromadb) (0.7.6)\n",
      "Requirement already satisfied: tqdm>=4.65.0 in .\\rag_scratch\\lib\\site-packages (from chromadb) (4.66.5)\n",
      "Requirement already satisfied: bcrypt>=4.0.1 in .\\rag_scratch\\lib\\site-packages (from chromadb) (4.2.0)\n",
      "Requirement already satisfied: build>=1.0.3 in .\\rag_scratch\\lib\\site-packages (from chromadb) (1.2.2.post1)\n",
      "Requirement already satisfied: uvicorn[standard]>=0.18.3 in .\\rag_scratch\\lib\\site-packages (from chromadb) (0.32.0)\n",
      "Requirement already satisfied: opentelemetry-api>=1.2.0 in .\\rag_scratch\\lib\\site-packages (from chromadb) (1.27.0)\n",
      "Requirement already satisfied: pydantic>=1.9 in .\\rag_scratch\\lib\\site-packages (from chromadb) (2.9.2)\n",
      "Requirement already satisfied: orjson>=3.9.12 in .\\rag_scratch\\lib\\site-packages (from chromadb) (3.10.7)\n",
      "Requirement already satisfied: overrides>=7.3.1 in .\\rag_scratch\\lib\\site-packages (from chromadb) (7.7.0)\n",
      "Requirement already satisfied: kubernetes>=28.1.0 in .\\rag_scratch\\lib\\site-packages (from chromadb) (31.0.0)\n",
      "Requirement already satisfied: onnxruntime>=1.14.1 in .\\rag_scratch\\lib\\site-packages (from chromadb) (1.19.2)\n",
      "Requirement already satisfied: opentelemetry-sdk>=1.2.0 in .\\rag_scratch\\lib\\site-packages (from chromadb) (1.27.0)\n",
      "Requirement already satisfied: typing-extensions>=4.5.0 in .\\rag_scratch\\lib\\site-packages (from chromadb) (4.12.2)\n",
      "Requirement already satisfied: opentelemetry-exporter-otlp-proto-grpc>=1.2.0 in .\\rag_scratch\\lib\\site-packages (from chromadb) (1.27.0)\n",
      "Requirement already satisfied: pypika>=0.48.9 in .\\rag_scratch\\lib\\site-packages (from chromadb) (0.48.9)\n",
      "Requirement already satisfied: langchain-text-splitters<0.4.0,>=0.3.0 in .\\rag_scratch\\lib\\site-packages (from langchain) (0.3.0)\n",
      "Requirement already satisfied: async-timeout<5.0.0,>=4.0.0 in .\\rag_scratch\\lib\\site-packages (from langchain) (4.0.3)\n",
      "Requirement already satisfied: aiohappyeyeballs>=2.3.0 in .\\rag_scratch\\lib\\site-packages (from aiohttp<4.0.0,>=3.8.3->langchain_community) (2.4.3)\n",
      "Requirement already satisfied: frozenlist>=1.1.1 in .\\rag_scratch\\lib\\site-packages (from aiohttp<4.0.0,>=3.8.3->langchain_community) (1.4.1)\n",
      "Requirement already satisfied: attrs>=17.3.0 in .\\rag_scratch\\lib\\site-packages (from aiohttp<4.0.0,>=3.8.3->langchain_community) (24.2.0)\n",
      "Requirement already satisfied: multidict<7.0,>=4.5 in .\\rag_scratch\\lib\\site-packages (from aiohttp<4.0.0,>=3.8.3->langchain_community) (6.1.0)\n",
      "Requirement already satisfied: yarl<2.0,>=1.12.0 in .\\rag_scratch\\lib\\site-packages (from aiohttp<4.0.0,>=3.8.3->langchain_community) (1.15.3)\n",
      "Requirement already satisfied: aiosignal>=1.1.2 in .\\rag_scratch\\lib\\site-packages (from aiohttp<4.0.0,>=3.8.3->langchain_community) (1.3.1)\n",
      "Requirement already satisfied: tomli>=1.1.0 in .\\rag_scratch\\lib\\site-packages (from build>=1.0.3->chromadb) (2.0.2)\n",
      "Requirement already satisfied: colorama in .\\rag_scratch\\lib\\site-packages (from build>=1.0.3->chromadb) (0.4.6)\n",
      "Requirement already satisfied: pyproject_hooks in .\\rag_scratch\\lib\\site-packages (from build>=1.0.3->chromadb) (1.2.0)\n",
      "Requirement already satisfied: marshmallow<4.0.0,>=3.18.0 in .\\rag_scratch\\lib\\site-packages (from dataclasses-json<0.7,>=0.5.7->langchain_community) (3.22.0)\n",
      "Requirement already satisfied: typing-inspect<1,>=0.4.0 in .\\rag_scratch\\lib\\site-packages (from dataclasses-json<0.7,>=0.5.7->langchain_community) (0.9.0)\n",
      "Requirement already satisfied: starlette<0.41.0,>=0.37.2 in .\\rag_scratch\\lib\\site-packages (from fastapi>=0.95.2->chromadb) (0.40.0)\n",
      "Requirement already satisfied: sniffio in .\\rag_scratch\\lib\\site-packages (from httpx>=0.27.0->chromadb) (1.3.1)\n",
      "Requirement already satisfied: idna in .\\rag_scratch\\lib\\site-packages (from httpx>=0.27.0->chromadb) (3.10)\n",
      "Requirement already satisfied: certifi in .\\rag_scratch\\lib\\site-packages (from httpx>=0.27.0->chromadb) (2024.8.30)\n",
      "Requirement already satisfied: httpcore==1.* in .\\rag_scratch\\lib\\site-packages (from httpx>=0.27.0->chromadb) (1.0.6)\n",
      "Requirement already satisfied: anyio in .\\rag_scratch\\lib\\site-packages (from httpx>=0.27.0->chromadb) (4.6.2.post1)\n",
      "Requirement already satisfied: h11<0.15,>=0.13 in .\\rag_scratch\\lib\\site-packages (from httpcore==1.*->httpx>=0.27.0->chromadb) (0.14.0)\n",
      "Requirement already satisfied: filelock in .\\rag_scratch\\lib\\site-packages (from huggingface-hub>=0.23.0->langchain-huggingface) (3.16.1)\n",
      "Requirement already satisfied: fsspec>=2023.5.0 in .\\rag_scratch\\lib\\site-packages (from huggingface-hub>=0.23.0->langchain-huggingface) (2024.9.0)\n",
      "Requirement already satisfied: six>=1.9.0 in .\\rag_scratch\\lib\\site-packages (from kubernetes>=28.1.0->chromadb) (1.16.0)\n",
      "Requirement already satisfied: oauthlib>=3.2.2 in .\\rag_scratch\\lib\\site-packages (from kubernetes>=28.1.0->chromadb) (3.2.2)\n",
      "Requirement already satisfied: websocket-client!=0.40.0,!=0.41.*,!=0.42.*,>=0.32.0 in .\\rag_scratch\\lib\\site-packages (from kubernetes>=28.1.0->chromadb) (1.8.0)\n",
      "Requirement already satisfied: durationpy>=0.7 in .\\rag_scratch\\lib\\site-packages (from kubernetes>=28.1.0->chromadb) (0.9)\n",
      "Requirement already satisfied: python-dateutil>=2.5.3 in .\\rag_scratch\\lib\\site-packages (from kubernetes>=28.1.0->chromadb) (2.9.0.post0)\n",
      "Requirement already satisfied: requests-oauthlib in .\\rag_scratch\\lib\\site-packages (from kubernetes>=28.1.0->chromadb) (2.0.0)\n",
      "Requirement already satisfied: urllib3>=1.24.2 in .\\rag_scratch\\lib\\site-packages (from kubernetes>=28.1.0->chromadb) (2.2.3)\n",
      "Requirement already satisfied: google-auth>=1.0.1 in .\\rag_scratch\\lib\\site-packages (from kubernetes>=28.1.0->chromadb) (2.35.0)\n",
      "Requirement already satisfied: jsonpatch<2.0,>=1.33 in .\\rag_scratch\\lib\\site-packages (from langchain-core<0.4.0,>=0.3.10->langchain_community) (1.33)\n",
      "Requirement already satisfied: requests-toolbelt<2.0.0,>=1.0.0 in .\\rag_scratch\\lib\\site-packages (from langsmith<0.2.0,>=0.1.125->langchain_community) (1.0.0)\n",
      "Requirement already satisfied: coloredlogs in .\\rag_scratch\\lib\\site-packages (from onnxruntime>=1.14.1->chromadb) (15.0.1)\n",
      "Requirement already satisfied: flatbuffers in .\\rag_scratch\\lib\\site-packages (from onnxruntime>=1.14.1->chromadb) (24.3.25)\n",
      "Requirement already satisfied: sympy in .\\rag_scratch\\lib\\site-packages (from onnxruntime>=1.14.1->chromadb) (1.13.3)\n",
      "Requirement already satisfied: protobuf in .\\rag_scratch\\lib\\site-packages (from onnxruntime>=1.14.1->chromadb) (4.25.5)\n",
      "Requirement already satisfied: deprecated>=1.2.6 in .\\rag_scratch\\lib\\site-packages (from opentelemetry-api>=1.2.0->chromadb) (1.2.14)\n",
      "Requirement already satisfied: importlib-metadata<=8.4.0,>=6.0 in .\\rag_scratch\\lib\\site-packages (from opentelemetry-api>=1.2.0->chromadb) (8.4.0)\n",
      "Requirement already satisfied: googleapis-common-protos~=1.52 in .\\rag_scratch\\lib\\site-packages (from opentelemetry-exporter-otlp-proto-grpc>=1.2.0->chromadb) (1.65.0)\n",
      "Requirement already satisfied: opentelemetry-exporter-otlp-proto-common==1.27.0 in .\\rag_scratch\\lib\\site-packages (from opentelemetry-exporter-otlp-proto-grpc>=1.2.0->chromadb) (1.27.0)\n",
      "Requirement already satisfied: opentelemetry-proto==1.27.0 in .\\rag_scratch\\lib\\site-packages (from opentelemetry-exporter-otlp-proto-grpc>=1.2.0->chromadb) (1.27.0)\n",
      "Requirement already satisfied: opentelemetry-instrumentation-asgi==0.48b0 in .\\rag_scratch\\lib\\site-packages (from opentelemetry-instrumentation-fastapi>=0.41b0->chromadb) (0.48b0)\n",
      "Requirement already satisfied: opentelemetry-semantic-conventions==0.48b0 in .\\rag_scratch\\lib\\site-packages (from opentelemetry-instrumentation-fastapi>=0.41b0->chromadb) (0.48b0)\n",
      "Requirement already satisfied: opentelemetry-util-http==0.48b0 in .\\rag_scratch\\lib\\site-packages (from opentelemetry-instrumentation-fastapi>=0.41b0->chromadb) (0.48b0)\n",
      "Requirement already satisfied: opentelemetry-instrumentation==0.48b0 in .\\rag_scratch\\lib\\site-packages (from opentelemetry-instrumentation-fastapi>=0.41b0->chromadb) (0.48b0)\n",
      "Requirement already satisfied: wrapt<2.0.0,>=1.0.0 in .\\rag_scratch\\lib\\site-packages (from opentelemetry-instrumentation==0.48b0->opentelemetry-instrumentation-fastapi>=0.41b0->chromadb) (1.16.0)\n",
      "Requirement already satisfied: setuptools>=16.0 in .\\rag_scratch\\lib\\site-packages (from opentelemetry-instrumentation==0.48b0->opentelemetry-instrumentation-fastapi>=0.41b0->chromadb) (63.2.0)\n",
      "Requirement already satisfied: asgiref~=3.0 in .\\rag_scratch\\lib\\site-packages (from opentelemetry-instrumentation-asgi==0.48b0->opentelemetry-instrumentation-fastapi>=0.41b0->chromadb) (3.8.1)\n",
      "Requirement already satisfied: monotonic>=1.5 in .\\rag_scratch\\lib\\site-packages (from posthog>=2.4.0->chromadb) (1.6)\n",
      "Requirement already satisfied: backoff>=1.10.0 in .\\rag_scratch\\lib\\site-packages (from posthog>=2.4.0->chromadb) (2.2.1)\n",
      "Requirement already satisfied: annotated-types>=0.6.0 in .\\rag_scratch\\lib\\site-packages (from pydantic>=1.9->chromadb) (0.7.0)\n",
      "Requirement already satisfied: pydantic-core==2.23.4 in .\\rag_scratch\\lib\\site-packages (from pydantic>=1.9->chromadb) (2.23.4)\n",
      "Requirement already satisfied: python-dotenv>=0.21.0 in .\\rag_scratch\\lib\\site-packages (from pydantic-settings<3.0.0,>=2.4.0->langchain_community) (1.0.1)\n",
      "Requirement already satisfied: charset-normalizer<4,>=2 in .\\rag_scratch\\lib\\site-packages (from requests<3,>=2->langchain_community) (3.4.0)\n",
      "Requirement already satisfied: pygments<3.0.0,>=2.13.0 in .\\rag_scratch\\lib\\site-packages (from rich>=10.11.0->chromadb) (2.18.0)\n",
      "Requirement already satisfied: markdown-it-py>=2.2.0 in .\\rag_scratch\\lib\\site-packages (from rich>=10.11.0->chromadb) (3.0.0)\n",
      "Requirement already satisfied: scipy in .\\rag_scratch\\lib\\site-packages (from sentence-transformers>=2.6.0->langchain-huggingface) (1.14.1)\n",
      "Requirement already satisfied: Pillow in .\\rag_scratch\\lib\\site-packages (from sentence-transformers>=2.6.0->langchain-huggingface) (11.0.0)\n",
      "Requirement already satisfied: torch>=1.11.0 in .\\rag_scratch\\lib\\site-packages (from sentence-transformers>=2.6.0->langchain-huggingface) (2.4.1)\n",
      "Requirement already satisfied: scikit-learn in .\\rag_scratch\\lib\\site-packages (from sentence-transformers>=2.6.0->langchain-huggingface) (1.5.2)\n",
      "Requirement already satisfied: greenlet!=0.4.17 in .\\rag_scratch\\lib\\site-packages (from SQLAlchemy<3,>=1.4->langchain_community) (3.1.1)\n",
      "Requirement already satisfied: safetensors>=0.4.1 in .\\rag_scratch\\lib\\site-packages (from transformers>=4.39.0->langchain-huggingface) (0.4.5)\n",
      "Requirement already satisfied: shellingham>=1.3.0 in .\\rag_scratch\\lib\\site-packages (from typer>=0.9.0->chromadb) (1.5.4)\n",
      "Requirement already satisfied: click>=8.0.0 in .\\rag_scratch\\lib\\site-packages (from typer>=0.9.0->chromadb) (8.1.7)\n",
      "Requirement already satisfied: watchfiles>=0.13 in .\\rag_scratch\\lib\\site-packages (from uvicorn[standard]>=0.18.3->chromadb) (0.24.0)\n",
      "Requirement already satisfied: websockets>=10.4 in .\\rag_scratch\\lib\\site-packages (from uvicorn[standard]>=0.18.3->chromadb) (13.1)\n",
      "Requirement already satisfied: httptools>=0.5.0 in .\\rag_scratch\\lib\\site-packages (from uvicorn[standard]>=0.18.3->chromadb) (0.6.2)\n",
      "Requirement already satisfied: pyasn1-modules>=0.2.1 in .\\rag_scratch\\lib\\site-packages (from google-auth>=1.0.1->kubernetes>=28.1.0->chromadb) (0.4.1)\n",
      "Requirement already satisfied: cachetools<6.0,>=2.0.0 in .\\rag_scratch\\lib\\site-packages (from google-auth>=1.0.1->kubernetes>=28.1.0->chromadb) (5.5.0)\n",
      "Requirement already satisfied: rsa<5,>=3.1.4 in .\\rag_scratch\\lib\\site-packages (from google-auth>=1.0.1->kubernetes>=28.1.0->chromadb) (4.9)\n",
      "Requirement already satisfied: zipp>=0.5 in .\\rag_scratch\\lib\\site-packages (from importlib-metadata<=8.4.0,>=6.0->opentelemetry-api>=1.2.0->chromadb) (3.20.2)\n",
      "Requirement already satisfied: jsonpointer>=1.9 in .\\rag_scratch\\lib\\site-packages (from jsonpatch<2.0,>=1.33->langchain-core<0.4.0,>=0.3.10->langchain_community) (3.0.0)\n",
      "Requirement already satisfied: mdurl~=0.1 in .\\rag_scratch\\lib\\site-packages (from markdown-it-py>=2.2.0->rich>=10.11.0->chromadb) (0.1.2)\n",
      "Requirement already satisfied: exceptiongroup>=1.0.2 in .\\rag_scratch\\lib\\site-packages (from anyio->httpx>=0.27.0->chromadb) (1.2.2)\n",
      "Requirement already satisfied: networkx in .\\rag_scratch\\lib\\site-packages (from torch>=1.11.0->sentence-transformers>=2.6.0->langchain-huggingface) (3.4.1)\n",
      "Requirement already satisfied: jinja2 in .\\rag_scratch\\lib\\site-packages (from torch>=1.11.0->sentence-transformers>=2.6.0->langchain-huggingface) (3.1.4)\n",
      "Requirement already satisfied: mypy-extensions>=0.3.0 in .\\rag_scratch\\lib\\site-packages (from typing-inspect<1,>=0.4.0->dataclasses-json<0.7,>=0.5.7->langchain_community) (1.0.0)\n",
      "Requirement already satisfied: propcache>=0.2.0 in .\\rag_scratch\\lib\\site-packages (from yarl<2.0,>=1.12.0->aiohttp<4.0.0,>=3.8.3->langchain_community) (0.2.0)\n",
      "Requirement already satisfied: humanfriendly>=9.1 in .\\rag_scratch\\lib\\site-packages (from coloredlogs->onnxruntime>=1.14.1->chromadb) (10.0)\n",
      "Requirement already satisfied: threadpoolctl>=3.1.0 in .\\rag_scratch\\lib\\site-packages (from scikit-learn->sentence-transformers>=2.6.0->langchain-huggingface) (3.5.0)\n",
      "Requirement already satisfied: joblib>=1.2.0 in .\\rag_scratch\\lib\\site-packages (from scikit-learn->sentence-transformers>=2.6.0->langchain-huggingface) (1.4.2)\n",
      "Requirement already satisfied: mpmath<1.4,>=1.1.0 in .\\rag_scratch\\lib\\site-packages (from sympy->onnxruntime>=1.14.1->chromadb) (1.3.0)\n",
      "Requirement already satisfied: pyreadline3 in .\\rag_scratch\\lib\\site-packages (from humanfriendly>=9.1->coloredlogs->onnxruntime>=1.14.1->chromadb) (3.5.4)\n",
      "Requirement already satisfied: pyasn1<0.7.0,>=0.4.6 in .\\rag_scratch\\lib\\site-packages (from pyasn1-modules>=0.2.1->google-auth>=1.0.1->kubernetes>=28.1.0->chromadb) (0.6.1)\n",
      "Requirement already satisfied: MarkupSafe>=2.0 in .\\rag_scratch\\lib\\site-packages (from jinja2->torch>=1.11.0->sentence-transformers>=2.6.0->langchain-huggingface) (3.0.1)\n",
      "Note: you may need to restart the kernel to use updated packages.\n"
     ]
    },
    {
     "name": "stderr",
     "output_type": "stream",
     "text": [
      "\n",
      "[notice] A new release of pip available: 22.2.1 -> 24.2\n",
      "[notice] To update, run: python.exe -m pip install --upgrade pip\n"
     ]
    }
   ],
   "source": [
    "%pip install langchain_community tiktoken langchain-huggingface langchainhub chromadb langchain"
   ]
  },
  {
   "cell_type": "code",
   "execution_count": 6,
   "metadata": {},
   "outputs": [
    {
     "name": "stdout",
     "output_type": "stream",
     "text": [
      "Requirement already satisfied: pypdf in .\\rag_scratch\\lib\\site-packages (5.0.1)Note: you may need to restart the kernel to use updated packages.\n",
      "\n",
      "Requirement already satisfied: typing_extensions>=4.0 in .\\rag_scratch\\lib\\site-packages (from pypdf) (4.12.2)\n"
     ]
    },
    {
     "name": "stderr",
     "output_type": "stream",
     "text": [
      "\n",
      "[notice] A new release of pip available: 22.2.1 -> 24.2\n",
      "[notice] To update, run: python.exe -m pip install --upgrade pip\n"
     ]
    }
   ],
   "source": [
    "%pip install pypdf"
   ]
  },
  {
   "cell_type": "code",
   "execution_count": 7,
   "metadata": {},
   "outputs": [
    {
     "name": "stdout",
     "output_type": "stream",
     "text": [
      "Requirement already satisfied: sentence-transformers in .\\rag_scratch\\lib\\site-packages (3.2.0)\n",
      "Requirement already satisfied: scipy in .\\rag_scratch\\lib\\site-packages (from sentence-transformers) (1.14.1)\n",
      "Requirement already satisfied: tqdm in .\\rag_scratch\\lib\\site-packages (from sentence-transformers) (4.66.5)\n",
      "Requirement already satisfied: scikit-learn in .\\rag_scratch\\lib\\site-packages (from sentence-transformers) (1.5.2)\n",
      "Requirement already satisfied: torch>=1.11.0 in .\\rag_scratch\\lib\\site-packages (from sentence-transformers) (2.4.1)\n",
      "Requirement already satisfied: huggingface-hub>=0.20.0 in .\\rag_scratch\\lib\\site-packages (from sentence-transformers) (0.25.2)\n",
      "Requirement already satisfied: Pillow in .\\rag_scratch\\lib\\site-packages (from sentence-transformers) (11.0.0)\n",
      "Requirement already satisfied: transformers<5.0.0,>=4.41.0 in .\\rag_scratch\\lib\\site-packages (from sentence-transformers) (4.45.2)\n",
      "Requirement already satisfied: packaging>=20.9 in .\\rag_scratch\\lib\\site-packages (from huggingface-hub>=0.20.0->sentence-transformers) (24.1)\n",
      "Requirement already satisfied: pyyaml>=5.1 in .\\rag_scratch\\lib\\site-packages (from huggingface-hub>=0.20.0->sentence-transformers) (6.0.2)\n",
      "Requirement already satisfied: requests in .\\rag_scratch\\lib\\site-packages (from huggingface-hub>=0.20.0->sentence-transformers) (2.32.3)\n",
      "Requirement already satisfied: fsspec>=2023.5.0 in .\\rag_scratch\\lib\\site-packages (from huggingface-hub>=0.20.0->sentence-transformers) (2024.9.0)\n",
      "Requirement already satisfied: filelock in .\\rag_scratch\\lib\\site-packages (from huggingface-hub>=0.20.0->sentence-transformers) (3.16.1)\n",
      "Requirement already satisfied: typing-extensions>=3.7.4.3 in .\\rag_scratch\\lib\\site-packages (from huggingface-hub>=0.20.0->sentence-transformers) (4.12.2)\n",
      "Requirement already satisfied: sympy in .\\rag_scratch\\lib\\site-packages (from torch>=1.11.0->sentence-transformers) (1.13.3)\n",
      "Requirement already satisfied: jinja2 in .\\rag_scratch\\lib\\site-packages (from torch>=1.11.0->sentence-transformers) (3.1.4)\n",
      "Requirement already satisfied: networkx in .\\rag_scratch\\lib\\site-packages (from torch>=1.11.0->sentence-transformers) (3.4.1)\n",
      "Requirement already satisfied: colorama in .\\rag_scratch\\lib\\site-packages (from tqdm->sentence-transformers) (0.4.6)\n",
      "Requirement already satisfied: safetensors>=0.4.1 in .\\rag_scratch\\lib\\site-packages (from transformers<5.0.0,>=4.41.0->sentence-transformers) (0.4.5)\n",
      "Requirement already satisfied: regex!=2019.12.17 in .\\rag_scratch\\lib\\site-packages (from transformers<5.0.0,>=4.41.0->sentence-transformers) (2024.9.11)\n",
      "Requirement already satisfied: numpy>=1.17 in .\\rag_scratch\\lib\\site-packages (from transformers<5.0.0,>=4.41.0->sentence-transformers) (1.26.4)\n",
      "Requirement already satisfied: tokenizers<0.21,>=0.20 in .\\rag_scratch\\lib\\site-packages (from transformers<5.0.0,>=4.41.0->sentence-transformers) (0.20.1)\n",
      "Requirement already satisfied: threadpoolctl>=3.1.0 in .\\rag_scratch\\lib\\site-packages (from scikit-learn->sentence-transformers) (3.5.0)\n",
      "Requirement already satisfied: joblib>=1.2.0 in .\\rag_scratch\\lib\\site-packages (from scikit-learn->sentence-transformers) (1.4.2)\n",
      "Requirement already satisfied: MarkupSafe>=2.0 in .\\rag_scratch\\lib\\site-packages (from jinja2->torch>=1.11.0->sentence-transformers) (3.0.1)\n",
      "Requirement already satisfied: idna<4,>=2.5 in .\\rag_scratch\\lib\\site-packages (from requests->huggingface-hub>=0.20.0->sentence-transformers) (3.10)\n",
      "Requirement already satisfied: urllib3<3,>=1.21.1 in .\\rag_scratch\\lib\\site-packages (from requests->huggingface-hub>=0.20.0->sentence-transformers) (2.2.3)\n",
      "Requirement already satisfied: charset-normalizer<4,>=2 in .\\rag_scratch\\lib\\site-packages (from requests->huggingface-hub>=0.20.0->sentence-transformers) (3.4.0)\n",
      "Requirement already satisfied: certifi>=2017.4.17 in .\\rag_scratch\\lib\\site-packages (from requests->huggingface-hub>=0.20.0->sentence-transformers) (2024.8.30)\n",
      "Requirement already satisfied: mpmath<1.4,>=1.1.0 in .\\rag_scratch\\lib\\site-packages (from sympy->torch>=1.11.0->sentence-transformers) (1.3.0)\n",
      "Note: you may need to restart the kernel to use updated packages.\n"
     ]
    },
    {
     "name": "stderr",
     "output_type": "stream",
     "text": [
      "\n",
      "[notice] A new release of pip available: 22.2.1 -> 24.2\n",
      "[notice] To update, run: python.exe -m pip install --upgrade pip\n"
     ]
    }
   ],
   "source": [
    "%pip install sentence-transformers"
   ]
  },
  {
   "cell_type": "markdown",
   "metadata": {},
   "source": [
    "API Keys"
   ]
  },
  {
   "cell_type": "code",
   "execution_count": 8,
   "metadata": {},
   "outputs": [],
   "source": [
    "import os\n",
    "import getpass\n",
    "\n",
    "os.environ[\"HUGGINGFACEHUB_API_TOKEN\"] = getpass.getpass(\"Enter your token: \")"
   ]
  },
  {
   "cell_type": "markdown",
   "metadata": {},
   "source": [
    "Part 1: Overview"
   ]
  },
  {
   "cell_type": "code",
   "execution_count": 9,
   "metadata": {},
   "outputs": [
    {
     "name": "stderr",
     "output_type": "stream",
     "text": [
      "d:\\others\\test2\\langgraph\\rag_scratch_learn\\rag_scratch\\lib\\site-packages\\sentence_transformers\\cross_encoder\\CrossEncoder.py:13: TqdmWarning: IProgress not found. Please update jupyter and ipywidgets. See https://ipywidgets.readthedocs.io/en/stable/user_install.html\n",
      "  from tqdm.autonotebook import tqdm, trange\n"
     ]
    }
   ],
   "source": [
    "from langchain import hub\n",
    "from langchain.text_splitter import RecursiveCharacterTextSplitter\n",
    "from langchain_community.document_loaders import PyPDFLoader\n",
    "from langchain_community.vectorstores import Chroma\n",
    "from langchain_core.output_parsers import StrOutputParser\n",
    "from langchain_core.runnables import RunnablePassthrough\n",
    "from langchain_huggingface import ChatHuggingFace, HuggingFaceEndpoint, HuggingFaceEmbeddings\n",
    "from langchain_community.embeddings import HuggingFaceInferenceAPIEmbeddings\n",
    "from langchain_huggingface.embeddings import HuggingFaceEmbeddings\n",
    "\n",
    "### INDEXING ###\n",
    "loader = PyPDFLoader(\"./data/sierra_emp_handbook.pdf\")\n",
    "\n",
    "docs = loader.load()\n",
    "\n",
    "# Split \n",
    "text_splitter = RecursiveCharacterTextSplitter(chunk_size=1000, chunk_overlap=200)\n",
    "splits = text_splitter.split_documents(docs)\n",
    "\n",
    "# Embed\n",
    "vectorstore = Chroma.from_documents(documents=splits, embedding= HuggingFaceEmbeddings())\n",
    "\n",
    "retriever = vectorstore.as_retriever()\n"
   ]
  },
  {
   "cell_type": "code",
   "execution_count": 10,
   "metadata": {},
   "outputs": [
    {
     "name": "stderr",
     "output_type": "stream",
     "text": [
      "d:\\others\\test2\\langgraph\\rag_scratch_learn\\rag_scratch\\lib\\site-packages\\langsmith\\client.py:354: LangSmithMissingAPIKeyWarning: API key must be provided when using hosted LangSmith API\n",
      "  warnings.warn(\n",
      "WARNING! max_length is not default parameter.\n",
      "                    max_length was transferred to model_kwargs.\n",
      "                    Please make sure that max_length is what you intended.\n"
     ]
    },
    {
     "name": "stdout",
     "output_type": "stream",
     "text": [
      "The token has not been saved to the git credentials helper. Pass `add_to_git_credential=True` in this function directly or `--add-to-git-credential` if using via `huggingface-cli` if you want to set the git credential as well.\n",
      "Token is valid (permission: fineGrained).\n",
      "Your token has been saved to C:\\Users\\KathiresanParamasiva\\.cache\\huggingface\\token\n",
      "Login successful\n"
     ]
    }
   ],
   "source": [
    "### RETRIEVAL and GENERATIOn ###\n",
    "\n",
    "# Prompt\n",
    "prompt = hub.pull(\"rlm/rag-prompt\")\n",
    "\n",
    "# LLM\n",
    "llm = HuggingFaceEndpoint(repo_id=\"mistralai/Mistral-7B-Instruct-v0.3\", \n",
    "                          temperature=0.1, \n",
    "                          max_length=512, \n",
    "                          huggingfacehub_api_token=os.environ[\"HUGGINGFACEHUB_API_TOKEN\"]\n",
    "                        )"
   ]
  },
  {
   "cell_type": "code",
   "execution_count": 11,
   "metadata": {},
   "outputs": [
    {
     "data": {
      "text/plain": [
       "' The Attendance Policy at Shri Parvathy Tech Park expects employees to maintain good attendance habits, including arriving on time, using access cards to enter and exit, and giving proper notice for attendance problems. Excessive tardiness, absenteeism, and unauthorized departures may result in disciplinary action. All absence and permission should be sent in advance as an email to HR.'"
      ]
     },
     "execution_count": 11,
     "metadata": {},
     "output_type": "execute_result"
    }
   ],
   "source": [
    "# Post Processing\n",
    "def format_docs(docs):\n",
    "    return \"\\n\\n\".join(doc.page_content for doc in docs)\n",
    "\n",
    "# Chain\n",
    "rag_chain = (\n",
    "    {\"context\": retriever | format_docs, \"question\": RunnablePassthrough()}\n",
    "    | prompt\n",
    "    | llm\n",
    "    | StrOutputParser()\n",
    ")\n",
    "\n",
    "# Question\n",
    "rag_chain.invoke(\"Give the Summary of Attendance Policy\")"
   ]
  },
  {
   "cell_type": "markdown",
   "metadata": {},
   "source": [
    "Part 2: Indexing"
   ]
  },
  {
   "cell_type": "code",
   "execution_count": 12,
   "metadata": {},
   "outputs": [],
   "source": [
    "# Documents\n",
    "question = \"What kind of pets do I like?\"\n",
    "document = \"My favorite pet is a cat.\""
   ]
  },
  {
   "cell_type": "code",
   "execution_count": 13,
   "metadata": {},
   "outputs": [
    {
     "data": {
      "text/plain": [
       "8"
      ]
     },
     "execution_count": 13,
     "metadata": {},
     "output_type": "execute_result"
    }
   ],
   "source": [
    "import tiktoken\n",
    "\n",
    "def num_tokens_from_string(string: str, encoding_name:str) -> int:\n",
    "    \"\"\"Return no. of tokens in a string.\"\"\"\n",
    "    encoding = tiktoken.get_encoding(encoding_name)\n",
    "    num_tokens = len(encoding.encode(string))\n",
    "\n",
    "    return num_tokens\n",
    "\n",
    "num_tokens_from_string(question, \"cl100k_base\")"
   ]
  },
  {
   "cell_type": "code",
   "execution_count": 14,
   "metadata": {},
   "outputs": [
    {
     "data": {
      "text/plain": [
       "768"
      ]
     },
     "execution_count": 14,
     "metadata": {},
     "output_type": "execute_result"
    }
   ],
   "source": [
    "embd = HuggingFaceEmbeddings()\n",
    "query_result = embd.embed_query(question)\n",
    "document_result = embd.embed_query(document)\n",
    "\n",
    "query_result[:3]\n",
    "\n",
    "len(query_result)"
   ]
  },
  {
   "cell_type": "code",
   "execution_count": 15,
   "metadata": {},
   "outputs": [
    {
     "name": "stdout",
     "output_type": "stream",
     "text": [
      "Cosine Similarity:  0.5654733869335381\n"
     ]
    }
   ],
   "source": [
    "import numpy as np\n",
    "\n",
    "def cosine_similarity(vec1, vec2):\n",
    "    dot_product = np.dot(vec1, vec2)\n",
    "    norm_vec1 = np.linalg.norm(vec1)\n",
    "    norm_vec2 = np.linalg.norm(vec2)\n",
    "    return dot_product / (norm_vec1 * norm_vec2)\n",
    "\n",
    "similarity = cosine_similarity(query_result, document_result)\n",
    "print(\"Cosine Similarity: \", similarity)"
   ]
  },
  {
   "cell_type": "code",
   "execution_count": 16,
   "metadata": {},
   "outputs": [],
   "source": [
    "#### INDEXING ####\n",
    "\n",
    "# Load document\n",
    "\n",
    "from langchain_community.document_loaders import PyPDFLoader\n",
    "\n",
    "loader = PyPDFLoader(\"./data/sierra_emp_handbook.pdf\")\n",
    "\n",
    "file_docs = loader.load()"
   ]
  },
  {
   "cell_type": "code",
   "execution_count": 17,
   "metadata": {},
   "outputs": [],
   "source": [
    "# Split\n",
    "from langchain.text_splitter import RecursiveCharacterTextSplitter\n",
    "\n",
    "text_splitter = RecursiveCharacterTextSplitter(chunk_size=100, chunk_overlap=10)\n",
    "\n",
    "# Make splits\n",
    "splits = text_splitter.split_documents(file_docs)"
   ]
  },
  {
   "cell_type": "code",
   "execution_count": 18,
   "metadata": {},
   "outputs": [],
   "source": [
    "# Vector Store or Index\n",
    "\n",
    "vectorstore = Chroma.from_documents(documents=splits, embedding= HuggingFaceEmbeddings())\n",
    "\n",
    "retriever = vectorstore.as_retriever()"
   ]
  },
  {
   "cell_type": "markdown",
   "metadata": {},
   "source": [
    "Part 3: Retrieval"
   ]
  },
  {
   "cell_type": "code",
   "execution_count": 55,
   "metadata": {},
   "outputs": [],
   "source": [
    "retriever = vectorstore.as_retriever(search_kwargs={\"k\": 1})"
   ]
  },
  {
   "cell_type": "code",
   "execution_count": 62,
   "metadata": {},
   "outputs": [
    {
     "name": "stdout",
     "output_type": "stream",
     "text": [
      "[Document(metadata={'page': 28, 'source': './data/sierra_emp_handbook.pdf'}, page_content='The purpose of the leave policy is to lay down the guidelines under which employees become'), Document(metadata={'page': 28, 'source': './data/sierra_emp_handbook.pdf'}, page_content='eligible for different types of leave and the rules and procedures for availing the leave.'), Document(metadata={'page': 1, 'source': './data/sierra_emp_handbook.pdf'}, page_content='22.  LEAVE POLICY  ................................ ................................'), Document(metadata={'page': 28, 'source': './data/sierra_emp_handbook.pdf'}, page_content='22.3. Types of Leaves:  \\n \\nEmployees are entitled to avail these types of leave as mentioned below:  \\nEarned Leave (PL)  Twelve (12) days per year (1 day per month) -valid till 15th Dec \\npay cycle  \\nHospitalization Leave (SL)  Three (3) days per year – valid till 15th Dec pay cycle  \\nNational Holidays  Ten (10) days per year – valid till 31st Dec 202 3 \\n \\nThe leaves are given on pro rata basis in the first year of service with the company and starts \\naccumulating from the first day of the new month. The System & Procedures to be followed in \\navailing of such leave are specified in the Leave Rules framed and notified by the Company from \\ntime to time.')]\n"
     ]
    }
   ],
   "source": [
    "docs = retriever.get_relevant_documents(\"Give the Summary of Leave Policy\")\n",
    "\n",
    "print(docs)"
   ]
  },
  {
   "cell_type": "markdown",
   "metadata": {},
   "source": [
    "Part 4: Generation"
   ]
  },
  {
   "cell_type": "code",
   "execution_count": 50,
   "metadata": {},
   "outputs": [
    {
     "data": {
      "text/plain": [
       "ChatPromptTemplate(input_variables=['context', 'question'], input_types={}, partial_variables={}, messages=[HumanMessagePromptTemplate(prompt=PromptTemplate(input_variables=['context', 'question'], input_types={}, partial_variables={}, template='Answer the question based on only following the context:\\n{context} \\n\\nQuestion: {question}\\n'), additional_kwargs={})])"
      ]
     },
     "execution_count": 50,
     "metadata": {},
     "output_type": "execute_result"
    }
   ],
   "source": [
    "from langchain_huggingface import ChatHuggingFace, HuggingFaceEndpoint, HuggingFaceEmbeddings\n",
    "from langchain_community.embeddings import HuggingFaceInferenceAPIEmbeddings\n",
    "from langchain_huggingface.embeddings import HuggingFaceEmbeddings\n",
    "from langchain.prompts import ChatPromptTemplate\n",
    "\n",
    "# Prompt\n",
    "template = \"\"\"Answer the question based on only following the context:\n",
    "{context} \n",
    "\n",
    "Question: {question}\n",
    "\"\"\"\n",
    "\n",
    "prompt = ChatPromptTemplate.from_template(template)\n",
    "\n",
    "prompt\n"
   ]
  },
  {
   "cell_type": "code",
   "execution_count": 41,
   "metadata": {},
   "outputs": [
    {
     "name": "stderr",
     "output_type": "stream",
     "text": [
      "WARNING! max_length is not default parameter.\n",
      "                    max_length was transferred to model_kwargs.\n",
      "                    Please make sure that max_length is what you intended.\n"
     ]
    },
    {
     "name": "stdout",
     "output_type": "stream",
     "text": [
      "The token has not been saved to the git credentials helper. Pass `add_to_git_credential=True` in this function directly or `--add-to-git-credential` if using via `huggingface-cli` if you want to set the git credential as well.\n",
      "Token is valid (permission: fineGrained).\n",
      "Your token has been saved to C:\\Users\\KathiresanParamasiva\\.cache\\huggingface\\token\n",
      "Login successful\n"
     ]
    }
   ],
   "source": [
    "# llm\n",
    "llm = HuggingFaceEndpoint(repo_id=\"mistralai/Mistral-7B-Instruct-v0.3\", \n",
    "                          temperature=0.1, \n",
    "                          max_length=512, \n",
    "                          huggingfacehub_api_token=os.environ[\"HUGGINGFACEHUB_API_TOKEN\"]\n",
    "                        )"
   ]
  },
  {
   "cell_type": "code",
   "execution_count": 60,
   "metadata": {},
   "outputs": [],
   "source": [
    "# Chain \n",
    "\n",
    "chain = prompt | llm"
   ]
  },
  {
   "cell_type": "code",
   "execution_count": 64,
   "metadata": {},
   "outputs": [
    {
     "data": {
      "text/plain": [
       "'\\nAnswer: The Leave Policy lays down the guidelines for employees to become eligible for different types of leave, including Earned Leave (PL), Hospitalization Leave (SL), and National Holidays. The number of days for each leave type is specified, and the leaves are given on a pro rata basis in the first year of service. The rules and procedures for availing these leaves are specified in the Leave Rules framed and notified by the Company.'"
      ]
     },
     "execution_count": 64,
     "metadata": {},
     "output_type": "execute_result"
    }
   ],
   "source": [
    "# Run\n",
    "chain.invoke({\"context\": docs, \"question\": \"Give the Summary of Leave Policy\"})"
   ]
  },
  {
   "cell_type": "code",
   "execution_count": 66,
   "metadata": {},
   "outputs": [
    {
     "name": "stderr",
     "output_type": "stream",
     "text": [
      "d:\\others\\test2\\langgraph\\rag_scratch_learn\\rag_scratch\\lib\\site-packages\\langsmith\\client.py:354: LangSmithMissingAPIKeyWarning: API key must be provided when using hosted LangSmith API\n",
      "  warnings.warn(\n"
     ]
    }
   ],
   "source": [
    "from langchain import hub\n",
    "prompt_hub_rag = hub.pull(\"rlm/rag-prompt\")"
   ]
  },
  {
   "cell_type": "code",
   "execution_count": 67,
   "metadata": {},
   "outputs": [
    {
     "data": {
      "text/plain": [
       "ChatPromptTemplate(input_variables=['context', 'question'], input_types={}, partial_variables={}, metadata={'lc_hub_owner': 'rlm', 'lc_hub_repo': 'rag-prompt', 'lc_hub_commit_hash': '50442af133e61576e74536c6556cefe1fac147cad032f4377b60c436e6cdcb6e'}, messages=[HumanMessagePromptTemplate(prompt=PromptTemplate(input_variables=['context', 'question'], input_types={}, partial_variables={}, template=\"You are an assistant for question-answering tasks. Use the following pieces of retrieved context to answer the question. If you don't know the answer, just say that you don't know. Use three sentences maximum and keep the answer concise.\\nQuestion: {question} \\nContext: {context} \\nAnswer:\"), additional_kwargs={})])"
      ]
     },
     "execution_count": 67,
     "metadata": {},
     "output_type": "execute_result"
    }
   ],
   "source": [
    "prompt_hub_rag"
   ]
  },
  {
   "cell_type": "code",
   "execution_count": 69,
   "metadata": {},
   "outputs": [
    {
     "data": {
      "text/plain": [
       "'\\nAnswer: The Leave Policy lays down the guidelines for employees to become eligible for different types of leave, including Earned Leave (PL), Hospitalization Leave (SL), and National Holidays. The number of days for each leave type is specified, and the leaves are given on a pro rata basis in the first year of service. The rules and procedures for availing these leaves are specified in the Leave Rules framed and notified by the Company.'"
      ]
     },
     "execution_count": 69,
     "metadata": {},
     "output_type": "execute_result"
    }
   ],
   "source": [
    "from langchain_core.output_parsers import StrOutputParser\n",
    "from langchain_core.runnables import RunnablePassthrough\n",
    "\n",
    "rag_chain = (\n",
    "    {\"context\": retriever, \"question\": RunnablePassthrough()}\n",
    "    | prompt\n",
    "    | llm\n",
    "    |StrOutputParser()\n",
    ")\n",
    "\n",
    "rag_chain.invoke(\"Give the Summary of Leave Policy\")"
   ]
  },
  {
   "cell_type": "code",
   "execution_count": null,
   "metadata": {},
   "outputs": [],
   "source": []
  }
 ],
 "metadata": {
  "kernelspec": {
   "display_name": "rag_scratch",
   "language": "python",
   "name": "python3"
  },
  "language_info": {
   "codemirror_mode": {
    "name": "ipython",
    "version": 3
   },
   "file_extension": ".py",
   "mimetype": "text/x-python",
   "name": "python",
   "nbconvert_exporter": "python",
   "pygments_lexer": "ipython3",
   "version": "3.10.6"
  }
 },
 "nbformat": 4,
 "nbformat_minor": 2
}
