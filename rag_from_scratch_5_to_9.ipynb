{
 "cells": [
  {
   "cell_type": "markdown",
   "metadata": {},
   "source": [
    "Packages"
   ]
  },
  {
   "cell_type": "code",
   "execution_count": 2,
   "metadata": {},
   "outputs": [
    {
     "name": "stdout",
     "output_type": "stream",
     "text": [
      "Requirement already satisfied: langchain_community in .\\rag_scratch\\lib\\site-packages (0.3.2)\n",
      "Requirement already satisfied: tiktoken in .\\rag_scratch\\lib\\site-packages (0.8.0)\n",
      "Requirement already satisfied: langchain-huggingface in .\\rag_scratch\\lib\\site-packages (0.1.0)\n",
      "Requirement already satisfied: langchainhub in .\\rag_scratch\\lib\\site-packages (0.1.21)\n",
      "Requirement already satisfied: chromadb in .\\rag_scratch\\lib\\site-packages (0.5.13)\n",
      "Requirement already satisfied: langchain in .\\rag_scratch\\lib\\site-packages (0.3.3)\n",
      "Requirement already satisfied: pypdf in .\\rag_scratch\\lib\\site-packages (5.0.1)\n",
      "Requirement already satisfied: aiohttp<4.0.0,>=3.8.3 in .\\rag_scratch\\lib\\site-packages (from langchain_community) (3.10.10)\n",
      "Requirement already satisfied: dataclasses-json<0.7,>=0.5.7 in .\\rag_scratch\\lib\\site-packages (from langchain_community) (0.6.7)\n",
      "Requirement already satisfied: numpy<2,>=1 in .\\rag_scratch\\lib\\site-packages (from langchain_community) (1.26.4)\n",
      "Requirement already satisfied: langchain-core<0.4.0,>=0.3.10 in .\\rag_scratch\\lib\\site-packages (from langchain_community) (0.3.10)\n",
      "Requirement already satisfied: langsmith<0.2.0,>=0.1.125 in .\\rag_scratch\\lib\\site-packages (from langchain_community) (0.1.135)\n",
      "Requirement already satisfied: tenacity!=8.4.0,<9.0.0,>=8.1.0 in .\\rag_scratch\\lib\\site-packages (from langchain_community) (8.5.0)\n",
      "Requirement already satisfied: pydantic-settings<3.0.0,>=2.4.0 in .\\rag_scratch\\lib\\site-packages (from langchain_community) (2.5.2)\n",
      "Requirement already satisfied: PyYAML>=5.3 in .\\rag_scratch\\lib\\site-packages (from langchain_community) (6.0.2)\n",
      "Requirement already satisfied: requests<3,>=2 in .\\rag_scratch\\lib\\site-packages (from langchain_community) (2.32.3)\n",
      "Requirement already satisfied: SQLAlchemy<3,>=1.4 in .\\rag_scratch\\lib\\site-packages (from langchain_community) (2.0.36)\n",
      "Requirement already satisfied: regex>=2022.1.18 in .\\rag_scratch\\lib\\site-packages (from tiktoken) (2024.9.11)\n",
      "Requirement already satisfied: transformers>=4.39.0 in .\\rag_scratch\\lib\\site-packages (from langchain-huggingface) (4.45.2)\n",
      "Requirement already satisfied: sentence-transformers>=2.6.0 in .\\rag_scratch\\lib\\site-packages (from langchain-huggingface) (3.2.0)\n",
      "Requirement already satisfied: huggingface-hub>=0.23.0 in .\\rag_scratch\\lib\\site-packages (from langchain-huggingface) (0.25.2)\n",
      "Requirement already satisfied: tokenizers>=0.19.1 in .\\rag_scratch\\lib\\site-packages (from langchain-huggingface) (0.20.1)\n",
      "Requirement already satisfied: packaging<25,>=23.2 in .\\rag_scratch\\lib\\site-packages (from langchainhub) (24.1)\n",
      "Requirement already satisfied: types-requests<3.0.0.0,>=2.31.0.2 in .\\rag_scratch\\lib\\site-packages (from langchainhub) (2.32.0.20241016)\n",
      "Requirement already satisfied: typing-extensions>=4.5.0 in .\\rag_scratch\\lib\\site-packages (from chromadb) (4.12.2)\n",
      "Requirement already satisfied: orjson>=3.9.12 in .\\rag_scratch\\lib\\site-packages (from chromadb) (3.10.7)\n",
      "Requirement already satisfied: bcrypt>=4.0.1 in .\\rag_scratch\\lib\\site-packages (from chromadb) (4.2.0)\n",
      "Requirement already satisfied: overrides>=7.3.1 in .\\rag_scratch\\lib\\site-packages (from chromadb) (7.7.0)\n",
      "Requirement already satisfied: opentelemetry-instrumentation-fastapi>=0.41b0 in .\\rag_scratch\\lib\\site-packages (from chromadb) (0.48b0)\n",
      "Requirement already satisfied: tqdm>=4.65.0 in .\\rag_scratch\\lib\\site-packages (from chromadb) (4.66.5)\n",
      "Requirement already satisfied: onnxruntime>=1.14.1 in .\\rag_scratch\\lib\\site-packages (from chromadb) (1.19.2)\n",
      "Requirement already satisfied: fastapi>=0.95.2 in .\\rag_scratch\\lib\\site-packages (from chromadb) (0.115.2)\n",
      "Requirement already satisfied: importlib-resources in .\\rag_scratch\\lib\\site-packages (from chromadb) (6.4.5)\n",
      "Requirement already satisfied: rich>=10.11.0 in .\\rag_scratch\\lib\\site-packages (from chromadb) (13.9.2)\n",
      "Requirement already satisfied: pydantic>=1.9 in .\\rag_scratch\\lib\\site-packages (from chromadb) (2.9.2)\n",
      "Requirement already satisfied: typer>=0.9.0 in .\\rag_scratch\\lib\\site-packages (from chromadb) (0.12.5)\n",
      "Requirement already satisfied: opentelemetry-sdk>=1.2.0 in .\\rag_scratch\\lib\\site-packages (from chromadb) (1.27.0)\n",
      "Requirement already satisfied: pypika>=0.48.9 in .\\rag_scratch\\lib\\site-packages (from chromadb) (0.48.9)\n",
      "Requirement already satisfied: uvicorn[standard]>=0.18.3 in .\\rag_scratch\\lib\\site-packages (from chromadb) (0.32.0)\n",
      "Requirement already satisfied: opentelemetry-exporter-otlp-proto-grpc>=1.2.0 in .\\rag_scratch\\lib\\site-packages (from chromadb) (1.27.0)\n",
      "Requirement already satisfied: opentelemetry-api>=1.2.0 in .\\rag_scratch\\lib\\site-packages (from chromadb) (1.27.0)\n",
      "Requirement already satisfied: httpx>=0.27.0 in .\\rag_scratch\\lib\\site-packages (from chromadb) (0.27.2)\n",
      "Requirement already satisfied: build>=1.0.3 in .\\rag_scratch\\lib\\site-packages (from chromadb) (1.2.2.post1)\n",
      "Requirement already satisfied: grpcio>=1.58.0 in .\\rag_scratch\\lib\\site-packages (from chromadb) (1.67.0)\n",
      "Requirement already satisfied: kubernetes>=28.1.0 in .\\rag_scratch\\lib\\site-packages (from chromadb) (31.0.0)\n",
      "Requirement already satisfied: posthog>=2.4.0 in .\\rag_scratch\\lib\\site-packages (from chromadb) (3.7.0)\n",
      "Requirement already satisfied: mmh3>=4.0.1 in .\\rag_scratch\\lib\\site-packages (from chromadb) (5.0.1)\n",
      "Requirement already satisfied: chroma-hnswlib==0.7.6 in .\\rag_scratch\\lib\\site-packages (from chromadb) (0.7.6)\n",
      "Requirement already satisfied: async-timeout<5.0.0,>=4.0.0 in .\\rag_scratch\\lib\\site-packages (from langchain) (4.0.3)\n",
      "Requirement already satisfied: langchain-text-splitters<0.4.0,>=0.3.0 in .\\rag_scratch\\lib\\site-packages (from langchain) (0.3.0)\n",
      "Requirement already satisfied: yarl<2.0,>=1.12.0 in .\\rag_scratch\\lib\\site-packages (from aiohttp<4.0.0,>=3.8.3->langchain_community) (1.15.3)\n",
      "Requirement already satisfied: aiosignal>=1.1.2 in .\\rag_scratch\\lib\\site-packages (from aiohttp<4.0.0,>=3.8.3->langchain_community) (1.3.1)\n",
      "Requirement already satisfied: aiohappyeyeballs>=2.3.0 in .\\rag_scratch\\lib\\site-packages (from aiohttp<4.0.0,>=3.8.3->langchain_community) (2.4.3)\n",
      "Requirement already satisfied: frozenlist>=1.1.1 in .\\rag_scratch\\lib\\site-packages (from aiohttp<4.0.0,>=3.8.3->langchain_community) (1.4.1)\n",
      "Requirement already satisfied: attrs>=17.3.0 in .\\rag_scratch\\lib\\site-packages (from aiohttp<4.0.0,>=3.8.3->langchain_community) (24.2.0)\n",
      "Requirement already satisfied: multidict<7.0,>=4.5 in .\\rag_scratch\\lib\\site-packages (from aiohttp<4.0.0,>=3.8.3->langchain_community) (6.1.0)\n",
      "Requirement already satisfied: colorama in .\\rag_scratch\\lib\\site-packages (from build>=1.0.3->chromadb) (0.4.6)\n",
      "Requirement already satisfied: tomli>=1.1.0 in .\\rag_scratch\\lib\\site-packages (from build>=1.0.3->chromadb) (2.0.2)\n",
      "Requirement already satisfied: pyproject_hooks in .\\rag_scratch\\lib\\site-packages (from build>=1.0.3->chromadb) (1.2.0)\n",
      "Requirement already satisfied: marshmallow<4.0.0,>=3.18.0 in .\\rag_scratch\\lib\\site-packages (from dataclasses-json<0.7,>=0.5.7->langchain_community) (3.22.0)\n",
      "Requirement already satisfied: typing-inspect<1,>=0.4.0 in .\\rag_scratch\\lib\\site-packages (from dataclasses-json<0.7,>=0.5.7->langchain_community) (0.9.0)\n",
      "Requirement already satisfied: starlette<0.41.0,>=0.37.2 in .\\rag_scratch\\lib\\site-packages (from fastapi>=0.95.2->chromadb) (0.40.0)\n",
      "Requirement already satisfied: sniffio in .\\rag_scratch\\lib\\site-packages (from httpx>=0.27.0->chromadb) (1.3.1)\n",
      "Requirement already satisfied: idna in .\\rag_scratch\\lib\\site-packages (from httpx>=0.27.0->chromadb) (3.10)\n",
      "Requirement already satisfied: httpcore==1.* in .\\rag_scratch\\lib\\site-packages (from httpx>=0.27.0->chromadb) (1.0.6)\n",
      "Requirement already satisfied: anyio in .\\rag_scratch\\lib\\site-packages (from httpx>=0.27.0->chromadb) (4.6.2.post1)\n",
      "Requirement already satisfied: certifi in .\\rag_scratch\\lib\\site-packages (from httpx>=0.27.0->chromadb) (2024.8.30)\n",
      "Requirement already satisfied: h11<0.15,>=0.13 in .\\rag_scratch\\lib\\site-packages (from httpcore==1.*->httpx>=0.27.0->chromadb) (0.14.0)\n",
      "Requirement already satisfied: fsspec>=2023.5.0 in .\\rag_scratch\\lib\\site-packages (from huggingface-hub>=0.23.0->langchain-huggingface) (2024.9.0)\n",
      "Requirement already satisfied: filelock in .\\rag_scratch\\lib\\site-packages (from huggingface-hub>=0.23.0->langchain-huggingface) (3.16.1)\n",
      "Requirement already satisfied: google-auth>=1.0.1 in .\\rag_scratch\\lib\\site-packages (from kubernetes>=28.1.0->chromadb) (2.35.0)\n",
      "Requirement already satisfied: six>=1.9.0 in .\\rag_scratch\\lib\\site-packages (from kubernetes>=28.1.0->chromadb) (1.16.0)\n",
      "Requirement already satisfied: requests-oauthlib in .\\rag_scratch\\lib\\site-packages (from kubernetes>=28.1.0->chromadb) (2.0.0)\n",
      "Requirement already satisfied: oauthlib>=3.2.2 in .\\rag_scratch\\lib\\site-packages (from kubernetes>=28.1.0->chromadb) (3.2.2)\n",
      "Requirement already satisfied: urllib3>=1.24.2 in .\\rag_scratch\\lib\\site-packages (from kubernetes>=28.1.0->chromadb) (2.2.3)\n",
      "Requirement already satisfied: websocket-client!=0.40.0,!=0.41.*,!=0.42.*,>=0.32.0 in .\\rag_scratch\\lib\\site-packages (from kubernetes>=28.1.0->chromadb) (1.8.0)\n",
      "Requirement already satisfied: python-dateutil>=2.5.3 in .\\rag_scratch\\lib\\site-packages (from kubernetes>=28.1.0->chromadb) (2.9.0.post0)\n",
      "Requirement already satisfied: durationpy>=0.7 in .\\rag_scratch\\lib\\site-packages (from kubernetes>=28.1.0->chromadb) (0.9)\n",
      "Requirement already satisfied: jsonpatch<2.0,>=1.33 in .\\rag_scratch\\lib\\site-packages (from langchain-core<0.4.0,>=0.3.10->langchain_community) (1.33)\n",
      "Requirement already satisfied: requests-toolbelt<2.0.0,>=1.0.0 in .\\rag_scratch\\lib\\site-packages (from langsmith<0.2.0,>=0.1.125->langchain_community) (1.0.0)\n",
      "Requirement already satisfied: protobuf in .\\rag_scratch\\lib\\site-packages (from onnxruntime>=1.14.1->chromadb) (4.25.5)\n",
      "Requirement already satisfied: sympy in .\\rag_scratch\\lib\\site-packages (from onnxruntime>=1.14.1->chromadb) (1.13.3)\n",
      "Requirement already satisfied: flatbuffers in .\\rag_scratch\\lib\\site-packages (from onnxruntime>=1.14.1->chromadb) (24.3.25)\n",
      "Requirement already satisfied: coloredlogs in .\\rag_scratch\\lib\\site-packages (from onnxruntime>=1.14.1->chromadb) (15.0.1)\n",
      "Requirement already satisfied: importlib-metadata<=8.4.0,>=6.0 in .\\rag_scratch\\lib\\site-packages (from opentelemetry-api>=1.2.0->chromadb) (8.4.0)\n",
      "Requirement already satisfied: deprecated>=1.2.6 in .\\rag_scratch\\lib\\site-packages (from opentelemetry-api>=1.2.0->chromadb) (1.2.14)\n",
      "Requirement already satisfied: opentelemetry-proto==1.27.0 in .\\rag_scratch\\lib\\site-packages (from opentelemetry-exporter-otlp-proto-grpc>=1.2.0->chromadb) (1.27.0)\n",
      "Requirement already satisfied: googleapis-common-protos~=1.52 in .\\rag_scratch\\lib\\site-packages (from opentelemetry-exporter-otlp-proto-grpc>=1.2.0->chromadb) (1.65.0)\n",
      "Requirement already satisfied: opentelemetry-exporter-otlp-proto-common==1.27.0 in .\\rag_scratch\\lib\\site-packages (from opentelemetry-exporter-otlp-proto-grpc>=1.2.0->chromadb) (1.27.0)\n",
      "Requirement already satisfied: opentelemetry-semantic-conventions==0.48b0 in .\\rag_scratch\\lib\\site-packages (from opentelemetry-instrumentation-fastapi>=0.41b0->chromadb) (0.48b0)\n",
      "Requirement already satisfied: opentelemetry-util-http==0.48b0 in .\\rag_scratch\\lib\\site-packages (from opentelemetry-instrumentation-fastapi>=0.41b0->chromadb) (0.48b0)\n",
      "Requirement already satisfied: opentelemetry-instrumentation==0.48b0 in .\\rag_scratch\\lib\\site-packages (from opentelemetry-instrumentation-fastapi>=0.41b0->chromadb) (0.48b0)\n",
      "Requirement already satisfied: opentelemetry-instrumentation-asgi==0.48b0 in .\\rag_scratch\\lib\\site-packages (from opentelemetry-instrumentation-fastapi>=0.41b0->chromadb) (0.48b0)\n",
      "Requirement already satisfied: wrapt<2.0.0,>=1.0.0 in .\\rag_scratch\\lib\\site-packages (from opentelemetry-instrumentation==0.48b0->opentelemetry-instrumentation-fastapi>=0.41b0->chromadb) (1.16.0)\n",
      "Requirement already satisfied: setuptools>=16.0 in .\\rag_scratch\\lib\\site-packages (from opentelemetry-instrumentation==0.48b0->opentelemetry-instrumentation-fastapi>=0.41b0->chromadb) (63.2.0)\n",
      "Requirement already satisfied: asgiref~=3.0 in .\\rag_scratch\\lib\\site-packages (from opentelemetry-instrumentation-asgi==0.48b0->opentelemetry-instrumentation-fastapi>=0.41b0->chromadb) (3.8.1)\n",
      "Requirement already satisfied: monotonic>=1.5 in .\\rag_scratch\\lib\\site-packages (from posthog>=2.4.0->chromadb) (1.6)\n",
      "Requirement already satisfied: backoff>=1.10.0 in .\\rag_scratch\\lib\\site-packages (from posthog>=2.4.0->chromadb) (2.2.1)\n",
      "Requirement already satisfied: pydantic-core==2.23.4 in .\\rag_scratch\\lib\\site-packages (from pydantic>=1.9->chromadb) (2.23.4)\n",
      "Requirement already satisfied: annotated-types>=0.6.0 in .\\rag_scratch\\lib\\site-packages (from pydantic>=1.9->chromadb) (0.7.0)\n",
      "Requirement already satisfied: python-dotenv>=0.21.0 in .\\rag_scratch\\lib\\site-packages (from pydantic-settings<3.0.0,>=2.4.0->langchain_community) (1.0.1)\n",
      "Requirement already satisfied: charset-normalizer<4,>=2 in .\\rag_scratch\\lib\\site-packages (from requests<3,>=2->langchain_community) (3.4.0)\n",
      "Requirement already satisfied: pygments<3.0.0,>=2.13.0 in .\\rag_scratch\\lib\\site-packages (from rich>=10.11.0->chromadb) (2.18.0)\n",
      "Requirement already satisfied: markdown-it-py>=2.2.0 in .\\rag_scratch\\lib\\site-packages (from rich>=10.11.0->chromadb) (3.0.0)\n",
      "Requirement already satisfied: scikit-learn in .\\rag_scratch\\lib\\site-packages (from sentence-transformers>=2.6.0->langchain-huggingface) (1.5.2)\n",
      "Requirement already satisfied: Pillow in .\\rag_scratch\\lib\\site-packages (from sentence-transformers>=2.6.0->langchain-huggingface) (11.0.0)\n",
      "Requirement already satisfied: torch>=1.11.0 in .\\rag_scratch\\lib\\site-packages (from sentence-transformers>=2.6.0->langchain-huggingface) (2.4.1)\n",
      "Requirement already satisfied: scipy in .\\rag_scratch\\lib\\site-packages (from sentence-transformers>=2.6.0->langchain-huggingface) (1.14.1)\n",
      "Requirement already satisfied: greenlet!=0.4.17 in .\\rag_scratch\\lib\\site-packages (from SQLAlchemy<3,>=1.4->langchain_community) (3.1.1)\n",
      "Requirement already satisfied: safetensors>=0.4.1 in .\\rag_scratch\\lib\\site-packages (from transformers>=4.39.0->langchain-huggingface) (0.4.5)\n",
      "Requirement already satisfied: click>=8.0.0 in .\\rag_scratch\\lib\\site-packages (from typer>=0.9.0->chromadb) (8.1.7)\n",
      "Requirement already satisfied: shellingham>=1.3.0 in .\\rag_scratch\\lib\\site-packages (from typer>=0.9.0->chromadb) (1.5.4)\n",
      "Requirement already satisfied: httptools>=0.5.0 in .\\rag_scratch\\lib\\site-packages (from uvicorn[standard]>=0.18.3->chromadb) (0.6.2)\n",
      "Requirement already satisfied: websockets>=10.4 in .\\rag_scratch\\lib\\site-packages (from uvicorn[standard]>=0.18.3->chromadb) (13.1)\n",
      "Requirement already satisfied: watchfiles>=0.13 in .\\rag_scratch\\lib\\site-packages (from uvicorn[standard]>=0.18.3->chromadb) (0.24.0)\n",
      "Requirement already satisfied: cachetools<6.0,>=2.0.0 in .\\rag_scratch\\lib\\site-packages (from google-auth>=1.0.1->kubernetes>=28.1.0->chromadb) (5.5.0)\n",
      "Requirement already satisfied: pyasn1-modules>=0.2.1 in .\\rag_scratch\\lib\\site-packages (from google-auth>=1.0.1->kubernetes>=28.1.0->chromadb) (0.4.1)\n",
      "Requirement already satisfied: rsa<5,>=3.1.4 in .\\rag_scratch\\lib\\site-packages (from google-auth>=1.0.1->kubernetes>=28.1.0->chromadb) (4.9)\n",
      "Requirement already satisfied: zipp>=0.5 in .\\rag_scratch\\lib\\site-packages (from importlib-metadata<=8.4.0,>=6.0->opentelemetry-api>=1.2.0->chromadb) (3.20.2)\n",
      "Requirement already satisfied: jsonpointer>=1.9 in .\\rag_scratch\\lib\\site-packages (from jsonpatch<2.0,>=1.33->langchain-core<0.4.0,>=0.3.10->langchain_community) (3.0.0)\n",
      "Requirement already satisfied: mdurl~=0.1 in .\\rag_scratch\\lib\\site-packages (from markdown-it-py>=2.2.0->rich>=10.11.0->chromadb) (0.1.2)\n",
      "Requirement already satisfied: exceptiongroup>=1.0.2 in .\\rag_scratch\\lib\\site-packages (from anyio->httpx>=0.27.0->chromadb) (1.2.2)\n",
      "Requirement already satisfied: networkx in .\\rag_scratch\\lib\\site-packages (from torch>=1.11.0->sentence-transformers>=2.6.0->langchain-huggingface) (3.4.1)\n",
      "Requirement already satisfied: jinja2 in .\\rag_scratch\\lib\\site-packages (from torch>=1.11.0->sentence-transformers>=2.6.0->langchain-huggingface) (3.1.4)\n",
      "Requirement already satisfied: mypy-extensions>=0.3.0 in .\\rag_scratch\\lib\\site-packages (from typing-inspect<1,>=0.4.0->dataclasses-json<0.7,>=0.5.7->langchain_community) (1.0.0)\n",
      "Requirement already satisfied: propcache>=0.2.0 in .\\rag_scratch\\lib\\site-packages (from yarl<2.0,>=1.12.0->aiohttp<4.0.0,>=3.8.3->langchain_community) (0.2.0)\n",
      "Requirement already satisfied: humanfriendly>=9.1 in .\\rag_scratch\\lib\\site-packages (from coloredlogs->onnxruntime>=1.14.1->chromadb) (10.0)\n",
      "Requirement already satisfied: threadpoolctl>=3.1.0 in .\\rag_scratch\\lib\\site-packages (from scikit-learn->sentence-transformers>=2.6.0->langchain-huggingface) (3.5.0)\n",
      "Requirement already satisfied: joblib>=1.2.0 in .\\rag_scratch\\lib\\site-packages (from scikit-learn->sentence-transformers>=2.6.0->langchain-huggingface) (1.4.2)\n",
      "Requirement already satisfied: mpmath<1.4,>=1.1.0 in .\\rag_scratch\\lib\\site-packages (from sympy->onnxruntime>=1.14.1->chromadb) (1.3.0)\n",
      "Requirement already satisfied: pyreadline3 in .\\rag_scratch\\lib\\site-packages (from humanfriendly>=9.1->coloredlogs->onnxruntime>=1.14.1->chromadb) (3.5.4)\n",
      "Requirement already satisfied: pyasn1<0.7.0,>=0.4.6 in .\\rag_scratch\\lib\\site-packages (from pyasn1-modules>=0.2.1->google-auth>=1.0.1->kubernetes>=28.1.0->chromadb) (0.6.1)\n",
      "Requirement already satisfied: MarkupSafe>=2.0 in .\\rag_scratch\\lib\\site-packages (from jinja2->torch>=1.11.0->sentence-transformers>=2.6.0->langchain-huggingface) (3.0.1)\n",
      "Note: you may need to restart the kernel to use updated packages.\n"
     ]
    },
    {
     "name": "stderr",
     "output_type": "stream",
     "text": [
      "\n",
      "[notice] A new release of pip available: 22.2.1 -> 24.2\n",
      "[notice] To update, run: python.exe -m pip install --upgrade pip\n"
     ]
    }
   ],
   "source": [
    "%pip install langchain_community tiktoken langchain-huggingface langchainhub chromadb langchain pypdf"
   ]
  },
  {
   "cell_type": "markdown",
   "metadata": {},
   "source": [
    "API Keys"
   ]
  },
  {
   "cell_type": "code",
   "execution_count": 24,
   "metadata": {},
   "outputs": [],
   "source": [
    "import os\n",
    "import getpass\n",
    "\n",
    "os.environ[\"HUGGINGFACEHUB_API_TOKEN\"] = getpass.getpass(\"Enter your HF token: \")\n",
    "\n",
    "os.environ['LANGCHAIN_TRACING_V2'] = 'true'\n",
    "os.environ['LANGCHAIN_ENDPOINT'] = 'https://api.smith.langchain.com'\n",
    "os.environ['LANGCHAIN_API_KEY'] = getpass.getpass(\"Enter your LANGSMITH token: \")"
   ]
  },
  {
   "cell_type": "markdown",
   "metadata": {},
   "source": [
    "Part 5: Multi Query"
   ]
  },
  {
   "cell_type": "markdown",
   "metadata": {},
   "source": [
    "Index"
   ]
  },
  {
   "cell_type": "code",
   "execution_count": 4,
   "metadata": {},
   "outputs": [
    {
     "name": "stderr",
     "output_type": "stream",
     "text": [
      "d:\\others\\test2\\langgraph\\rag_scratch_learn\\rag_scratch\\lib\\site-packages\\sentence_transformers\\cross_encoder\\CrossEncoder.py:13: TqdmWarning: IProgress not found. Please update jupyter and ipywidgets. See https://ipywidgets.readthedocs.io/en/stable/user_install.html\n",
      "  from tqdm.autonotebook import tqdm, trange\n"
     ]
    }
   ],
   "source": [
    "### Indexing ###\n",
    "\n",
    "# Load Doc\n",
    "from langchain_community.document_loaders import PyPDFLoader\n",
    "\n",
    "loader = PyPDFLoader(\"./data/sierra_emp_handbook.pdf\")\n",
    "\n",
    "load_docs = loader.load()\n",
    "\n",
    "\n",
    "# Split\n",
    "from langchain.text_splitter import RecursiveCharacterTextSplitter\n",
    "text_splitter = RecursiveCharacterTextSplitter.from_tiktoken_encoder(chunk_size=300, chunk_overlap=50)\n",
    "\n",
    "# Make Split\n",
    "splits = text_splitter.split_documents(load_docs)\n",
    "\n",
    "# Index\n",
    "from langchain_community.vectorstores import Chroma\n",
    "from langchain_huggingface import HuggingFaceEmbeddings\n",
    "vectorstore = Chroma.from_documents(documents=splits, embedding=HuggingFaceEmbeddings())\n",
    "\n",
    "retriever = vectorstore.as_retriever()\n"
   ]
  },
  {
   "cell_type": "markdown",
   "metadata": {},
   "source": [
    "Prompt"
   ]
  },
  {
   "cell_type": "code",
   "execution_count": 5,
   "metadata": {},
   "outputs": [
    {
     "name": "stdout",
     "output_type": "stream",
     "text": [
      "The token has not been saved to the git credentials helper. Pass `add_to_git_credential=True` in this function directly or `--add-to-git-credential` if using via `huggingface-cli` if you want to set the git credential as well.\n",
      "Token is valid (permission: fineGrained).\n",
      "Your token has been saved to C:\\Users\\KathiresanParamasiva\\.cache\\huggingface\\token\n",
      "Login successful\n"
     ]
    }
   ],
   "source": [
    "from langchain.prompts import ChatPromptTemplate\n",
    "\n",
    "# Multi Query: Different Persepctives\n",
    "template = \"\"\"You are an AI language model assistant behalf of Sierra Support Centre Pvt Ltd. Your task is to generate five \n",
    "different versions of the given user question to retrieve relevant documents from vector database.\n",
    "By generating multiple perspective of the user question, your goal is to help the user overcome \n",
    "some of the limitations of the distance-based similarity search.\n",
    "Provide these alternative questions seperated by newlines. Original question: {question}\"\"\"\n",
    "\n",
    "prompt_perspectives = ChatPromptTemplate.from_template(template)\n",
    "\n",
    "from langchain_core.output_parsers import StrOutputParser\n",
    "from langchain_huggingface import HuggingFaceEndpoint\n",
    "\n",
    "generate_queries = (\n",
    "    prompt_perspectives\n",
    "    | HuggingFaceEndpoint(repo_id=\"mistralai/Mistral-7B-Instruct-v0.3\", \n",
    "                          huggingfacehub_api_token=os.environ[\"HUGGINGFACEHUB_API_TOKEN\"]\n",
    "                        )\n",
    "    | StrOutputParser()\n",
    "    | (lambda x: x.split(\"\\n\"))\n",
    ")"
   ]
  },
  {
   "cell_type": "code",
   "execution_count": 6,
   "metadata": {},
   "outputs": [],
   "source": [
    "from langchain.load import dumps, loads\n",
    "\n",
    "def get_unique_union(documents: list[list]):\n",
    "    \"\"\" Unique Union of retrieved docs \"\"\"\n",
    "\n",
    "    # Flatters list of list, and convert each Document to the string\n",
    "    falttern_docs = [dumps(doc) for sublist in documents for doc in sublist]\n",
    "\n",
    "    # Get unique documents\n",
    "    unique_docs = list(set(falttern_docs))\n",
    "\n",
    "    # return\n",
    "    return [loads(doc) for doc in unique_docs]\n",
    "\n",
    "# Retrieve\n",
    "\n",
    "retrieval_chain = generate_queries | retriever.map() | get_unique_union\n",
    "\n",
    "# question = \"What are the Leave Policies for Sierra Support Centre?\"\n",
    "\n",
    "# docs = retrieval_chain.invoke({\"question\": question})\n",
    "\n",
    "# len(docs)"
   ]
  },
  {
   "cell_type": "code",
   "execution_count": 7,
   "metadata": {},
   "outputs": [
    {
     "name": "stdout",
     "output_type": "stream",
     "text": [
      "The token has not been saved to the git credentials helper. Pass `add_to_git_credential=True` in this function directly or `--add-to-git-credential` if using via `huggingface-cli` if you want to set the git credential as well.\n",
      "Token is valid (permission: fineGrained).\n",
      "Your token has been saved to C:\\Users\\KathiresanParamasiva\\.cache\\huggingface\\token\n",
      "Login successful\n"
     ]
    },
    {
     "name": "stderr",
     "output_type": "stream",
     "text": [
      "C:\\Users\\KathiresanParamasiva\\AppData\\Local\\Temp\\ipykernel_27448\\1814966136.py:13: LangChainBetaWarning: The function `loads` is in beta. It is actively being worked on, so the API may change.\n",
      "  return [loads(doc) for doc in unique_docs]\n"
     ]
    },
    {
     "data": {
      "text/plain": [
       "' mentioned in the document.\\n\\nAnswer: The leave policies mentioned in the document are:\\n1. Annual Entitlement: 15 for Paid Leave (PL) and 10 for Hospitalization Leave (SL).\\n2. Advance Approval: Yes for both Paid Leave (PL) and Hospitalization Leave (SL).\\n3. Partial Day Leave: Allowed for both Paid Leave (PL) and Hospitalization Leave (SL).\\n4. Carry Forward to next calendar year: Not allowed for both Paid Leave (PL) and Hospitalization Leave (SL).\\n5. Rules on Leave: Earned & Hospitalization Leave (PL & SL) Published Holidays.'"
      ]
     },
     "execution_count": 7,
     "metadata": {},
     "output_type": "execute_result"
    }
   ],
   "source": [
    "from operator import itemgetter\n",
    "from langchain_huggingface import HuggingFaceEndpoint\n",
    "from langchain_core.runnables import RunnablePassthrough\n",
    "\n",
    "\n",
    "# RAG\n",
    "template = \"\"\"Answer the following question based on this context:\n",
    "{context}\n",
    "\n",
    "Question: {question}\"\"\"\n",
    "\n",
    "prompt = ChatPromptTemplate.from_template(template)\n",
    "\n",
    "llm = HuggingFaceEndpoint(repo_id=\"mistralai/Mistral-7B-Instruct-v0.3\", \n",
    "                          huggingfacehub_api_token=os.environ[\"HUGGINGFACEHUB_API_TOKEN\"]\n",
    "                        )\n",
    "\n",
    "final_rag_chain = (\n",
    "    {\"context\": retrieval_chain, \"question\": itemgetter(\"question\")}\n",
    "    | prompt\n",
    "    | llm\n",
    "    | StrOutputParser()\n",
    ")\n",
    "\n",
    "user_question = input(\"Enter Your Question: \")\n",
    "final_rag_chain.invoke({\"question\": user_question})"
   ]
  },
  {
   "cell_type": "markdown",
   "metadata": {},
   "source": [
    "Part 6: RAG-Fusion"
   ]
  },
  {
   "cell_type": "markdown",
   "metadata": {},
   "source": [
    "Prompts"
   ]
  },
  {
   "cell_type": "code",
   "execution_count": 25,
   "metadata": {},
   "outputs": [],
   "source": [
    "from langchain.prompts import ChatPromptTemplate\n",
    "\n",
    "template = \"\"\"You are helpful assistant that generate multiple search queries based on a single input query. \\n\n",
    "Generate multiple search queries related to: {question} \\n\n",
    "Output (4 queries):\"\"\"\n",
    "\n",
    "prompt_rag_fusion = ChatPromptTemplate.from_template(template)"
   ]
  },
  {
   "cell_type": "code",
   "execution_count": 26,
   "metadata": {},
   "outputs": [
    {
     "name": "stdout",
     "output_type": "stream",
     "text": [
      "The token has not been saved to the git credentials helper. Pass `add_to_git_credential=True` in this function directly or `--add-to-git-credential` if using via `huggingface-cli` if you want to set the git credential as well.\n",
      "Token is valid (permission: fineGrained).\n",
      "Your token has been saved to C:\\Users\\KathiresanParamasiva\\.cache\\huggingface\\token\n",
      "Login successful\n"
     ]
    }
   ],
   "source": [
    "from langchain_core.output_parsers import StrOutputParser\n",
    "from langchain_huggingface import HuggingFaceEndpoint\n",
    "\n",
    "generate_queries = (\n",
    "    prompt_rag_fusion\n",
    "    | HuggingFaceEndpoint(repo_id=\"mistralai/Mistral-7B-Instruct-v0.3\", \n",
    "                          huggingfacehub_api_token=os.environ[\"HUGGINGFACEHUB_API_TOKEN\"]\n",
    "                        )\n",
    "    | StrOutputParser()\n",
    "    | (lambda x: x.split(\"\\n\"))\n",
    ")"
   ]
  },
  {
   "cell_type": "code",
   "execution_count": 27,
   "metadata": {},
   "outputs": [],
   "source": [
    "from langchain.load import dumps, loads\n",
    "\n",
    "def reciprocal_rank_fusion(results: list[list], k=60):\n",
    "    \"\"\" reciprocal_rank_fusion that takes multiple list of ranked documents and an optional parameter k \n",
    "    used in the RRF formula\"\"\"\n",
    "\n",
    "    # Initialized a dictionary to hold fused score for each unique document\n",
    "    fused_scores = {}\n",
    "\n",
    "    # Iterate through eached list of ranked document\n",
    "    for docs in results:\n",
    "\n",
    "        # Iterate through each document in the list, with its rank (position in the list)\n",
    "        for rank, doc in enumerate(docs):\n",
    "\n",
    "            # Convert the document to string format to use as a key (assumed documents can be  serialized  to JSON)\n",
    "            doc_str = dumps(doc)\n",
    "\n",
    "            if doc_str not in fused_scores:\n",
    "                fused_scores[doc_str] = 0\n",
    "\n",
    "            # Retrieve the current score of the document, if any\n",
    "            previous_score = fused_scores[doc_str]\n",
    "\n",
    "            # Update the score if the document using RRF formula: 1 / (rank + k)\n",
    "            fused_scores[doc_str] += 1 / (rank + k)\n",
    "\n",
    "    # Sort the documents based on their fused scores in descending order to get the financial remarked results\n",
    "    reranked_results = [\n",
    "        (loads(doc), score)\n",
    "        for doc, score in sorted(fused_scores.items(), key=lambda x: x[1], reverse=True)\n",
    "    ]\n",
    "\n",
    "    # Return the reranked lists as a list of tuples, each containg the document and its fused score\n",
    "    return reranked_results\n",
    "\n",
    "retrieval_chain_rag_fusion = generate_queries | retriever.map() | reciprocal_rank_fusion"
   ]
  },
  {
   "cell_type": "code",
   "execution_count": 28,
   "metadata": {},
   "outputs": [
    {
     "data": {
      "text/plain": [
       "'\\n\\nAssistant: The leave types available are Earned Leave (PL), Hospitalization Leave (SL), National Holidays, and Maternity leave (for female employees who have been employed with the company for more than one year).'"
      ]
     },
     "execution_count": 28,
     "metadata": {},
     "output_type": "execute_result"
    }
   ],
   "source": [
    "from langchain_core.runnables import RunnablePassthrough\n",
    "\n",
    "# RAG\n",
    "template = \"\"\"You are helpful assistant, Answer the following question based on this context:\n",
    "{context}\n",
    "\n",
    "Question: {question}\"\"\"\n",
    "\n",
    "prompt = ChatPromptTemplate.from_template(template)\n",
    "\n",
    "final_rag_chain = (\n",
    "    {\"context\": retrieval_chain_rag_fusion, \"question\": itemgetter(\"question\")}\n",
    "    | prompt\n",
    "    | llm\n",
    "    | StrOutputParser()\n",
    ")\n",
    "\n",
    "user_question = input(\"Enter your question: \")\n",
    "\n",
    "final_rag_chain.invoke({\"question\": user_question})"
   ]
  },
  {
   "cell_type": "markdown",
   "metadata": {},
   "source": [
    "Part 7: Decomposition"
   ]
  },
  {
   "cell_type": "code",
   "execution_count": 38,
   "metadata": {},
   "outputs": [],
   "source": [
    "from langchain_core.prompts import ChatPromptTemplate\n",
    "\n",
    "# Decomposition\n",
    "prompt = \"\"\"You are a helpful assistant that generates multiple sub-questions related to an input question.\n",
    "The goal is to break down the input into a set of sub-problems / sub-questions that can be answers in isolation.\n",
    "Generate multiple search queries related to: {question}\n",
    "Output (3 queries): \"\"\"\n",
    "\n",
    "prompt_decomposition = ChatPromptTemplate.from_template(prompt)\n"
   ]
  },
  {
   "cell_type": "code",
   "execution_count": 32,
   "metadata": {},
   "outputs": [
    {
     "name": "stdout",
     "output_type": "stream",
     "text": [
      "Collecting langchain_ai21\n",
      "  Downloading langchain_ai21-0.1.9-py3-none-any.whl (17 kB)\n",
      "Collecting ai21<3.0.0,>=2.14.1\n",
      "  Downloading ai21-2.15.1-py3-none-any.whl (87 kB)\n",
      "     ---------------------------------------- 87.6/87.6 kB 1.2 MB/s eta 0:00:00\n",
      "Requirement already satisfied: langchain-text-splitters<0.4,>=0.3 in .\\rag_scratch\\lib\\site-packages (from langchain_ai21) (0.3.0)\n",
      "Requirement already satisfied: langchain-core<0.4,>=0.3 in .\\rag_scratch\\lib\\site-packages (from langchain_ai21) (0.3.10)\n",
      "Requirement already satisfied: httpx<0.28.0,>=0.27.0 in .\\rag_scratch\\lib\\site-packages (from ai21<3.0.0,>=2.14.1->langchain_ai21) (0.27.2)\n",
      "Collecting ai21-tokenizer<1.0.0,>=0.12.0\n",
      "  Downloading ai21_tokenizer-0.12.0-py3-none-any.whl (2.7 MB)\n",
      "     ---------------------------------------- 2.7/2.7 MB 11.4 MB/s eta 0:00:00\n",
      "Requirement already satisfied: tenacity<9.0.0,>=8.3.0 in .\\rag_scratch\\lib\\site-packages (from ai21<3.0.0,>=2.14.1->langchain_ai21) (8.5.0)\n",
      "Requirement already satisfied: pydantic<3.0.0,>=1.9.0 in .\\rag_scratch\\lib\\site-packages (from ai21<3.0.0,>=2.14.1->langchain_ai21) (2.9.2)\n",
      "Requirement already satisfied: typing-extensions<5.0.0,>=4.9.0 in .\\rag_scratch\\lib\\site-packages (from ai21<3.0.0,>=2.14.1->langchain_ai21) (4.12.2)\n",
      "Requirement already satisfied: langsmith<0.2.0,>=0.1.125 in .\\rag_scratch\\lib\\site-packages (from langchain-core<0.4,>=0.3->langchain_ai21) (0.1.135)\n",
      "Requirement already satisfied: PyYAML>=5.3 in .\\rag_scratch\\lib\\site-packages (from langchain-core<0.4,>=0.3->langchain_ai21) (6.0.2)\n",
      "Requirement already satisfied: packaging<25,>=23.2 in .\\rag_scratch\\lib\\site-packages (from langchain-core<0.4,>=0.3->langchain_ai21) (24.1)\n",
      "Requirement already satisfied: jsonpatch<2.0,>=1.33 in .\\rag_scratch\\lib\\site-packages (from langchain-core<0.4,>=0.3->langchain_ai21) (1.33)\n",
      "Requirement already satisfied: tokenizers<1.0.0,>=0.15.0 in .\\rag_scratch\\lib\\site-packages (from ai21-tokenizer<1.0.0,>=0.12.0->ai21<3.0.0,>=2.14.1->langchain_ai21) (0.20.1)\n",
      "Requirement already satisfied: anyio<5.0.0,>=4.4.0 in .\\rag_scratch\\lib\\site-packages (from ai21-tokenizer<1.0.0,>=0.12.0->ai21<3.0.0,>=2.14.1->langchain_ai21) (4.6.2.post1)\n",
      "Collecting sentencepiece<1.0.0,>=0.2.0\n",
      "  Downloading sentencepiece-0.2.0-cp310-cp310-win_amd64.whl (991 kB)\n",
      "     ---------------------------------------- 991.5/991.5 kB 15.6 MB/s eta 0:00:00\n",
      "Requirement already satisfied: idna in .\\rag_scratch\\lib\\site-packages (from httpx<0.28.0,>=0.27.0->ai21<3.0.0,>=2.14.1->langchain_ai21) (3.10)\n",
      "Requirement already satisfied: httpcore==1.* in .\\rag_scratch\\lib\\site-packages (from httpx<0.28.0,>=0.27.0->ai21<3.0.0,>=2.14.1->langchain_ai21) (1.0.6)\n",
      "Requirement already satisfied: sniffio in .\\rag_scratch\\lib\\site-packages (from httpx<0.28.0,>=0.27.0->ai21<3.0.0,>=2.14.1->langchain_ai21) (1.3.1)\n",
      "Requirement already satisfied: certifi in .\\rag_scratch\\lib\\site-packages (from httpx<0.28.0,>=0.27.0->ai21<3.0.0,>=2.14.1->langchain_ai21) (2024.8.30)\n",
      "Requirement already satisfied: h11<0.15,>=0.13 in .\\rag_scratch\\lib\\site-packages (from httpcore==1.*->httpx<0.28.0,>=0.27.0->ai21<3.0.0,>=2.14.1->langchain_ai21) (0.14.0)\n",
      "Requirement already satisfied: jsonpointer>=1.9 in .\\rag_scratch\\lib\\site-packages (from jsonpatch<2.0,>=1.33->langchain-core<0.4,>=0.3->langchain_ai21) (3.0.0)\n",
      "Requirement already satisfied: requests-toolbelt<2.0.0,>=1.0.0 in .\\rag_scratch\\lib\\site-packages (from langsmith<0.2.0,>=0.1.125->langchain-core<0.4,>=0.3->langchain_ai21) (1.0.0)\n",
      "Requirement already satisfied: requests<3,>=2 in .\\rag_scratch\\lib\\site-packages (from langsmith<0.2.0,>=0.1.125->langchain-core<0.4,>=0.3->langchain_ai21) (2.32.3)\n",
      "Requirement already satisfied: orjson<4.0.0,>=3.9.14 in .\\rag_scratch\\lib\\site-packages (from langsmith<0.2.0,>=0.1.125->langchain-core<0.4,>=0.3->langchain_ai21) (3.10.7)\n",
      "Requirement already satisfied: annotated-types>=0.6.0 in .\\rag_scratch\\lib\\site-packages (from pydantic<3.0.0,>=1.9.0->ai21<3.0.0,>=2.14.1->langchain_ai21) (0.7.0)\n",
      "Requirement already satisfied: pydantic-core==2.23.4 in .\\rag_scratch\\lib\\site-packages (from pydantic<3.0.0,>=1.9.0->ai21<3.0.0,>=2.14.1->langchain_ai21) (2.23.4)\n",
      "Requirement already satisfied: exceptiongroup>=1.0.2 in .\\rag_scratch\\lib\\site-packages (from anyio<5.0.0,>=4.4.0->ai21-tokenizer<1.0.0,>=0.12.0->ai21<3.0.0,>=2.14.1->langchain_ai21) (1.2.2)\n",
      "Requirement already satisfied: urllib3<3,>=1.21.1 in .\\rag_scratch\\lib\\site-packages (from requests<3,>=2->langsmith<0.2.0,>=0.1.125->langchain-core<0.4,>=0.3->langchain_ai21) (2.2.3)\n",
      "Requirement already satisfied: charset-normalizer<4,>=2 in .\\rag_scratch\\lib\\site-packages (from requests<3,>=2->langsmith<0.2.0,>=0.1.125->langchain-core<0.4,>=0.3->langchain_ai21) (3.4.0)\n",
      "Requirement already satisfied: huggingface-hub<1.0,>=0.16.4 in .\\rag_scratch\\lib\\site-packages (from tokenizers<1.0.0,>=0.15.0->ai21-tokenizer<1.0.0,>=0.12.0->ai21<3.0.0,>=2.14.1->langchain_ai21) (0.25.2)\n",
      "Requirement already satisfied: fsspec>=2023.5.0 in .\\rag_scratch\\lib\\site-packages (from huggingface-hub<1.0,>=0.16.4->tokenizers<1.0.0,>=0.15.0->ai21-tokenizer<1.0.0,>=0.12.0->ai21<3.0.0,>=2.14.1->langchain_ai21) (2024.9.0)\n",
      "Requirement already satisfied: filelock in .\\rag_scratch\\lib\\site-packages (from huggingface-hub<1.0,>=0.16.4->tokenizers<1.0.0,>=0.15.0->ai21-tokenizer<1.0.0,>=0.12.0->ai21<3.0.0,>=2.14.1->langchain_ai21) (3.16.1)\n",
      "Requirement already satisfied: tqdm>=4.42.1 in .\\rag_scratch\\lib\\site-packages (from huggingface-hub<1.0,>=0.16.4->tokenizers<1.0.0,>=0.15.0->ai21-tokenizer<1.0.0,>=0.12.0->ai21<3.0.0,>=2.14.1->langchain_ai21) (4.66.5)\n",
      "Requirement already satisfied: colorama in .\\rag_scratch\\lib\\site-packages (from tqdm>=4.42.1->huggingface-hub<1.0,>=0.16.4->tokenizers<1.0.0,>=0.15.0->ai21-tokenizer<1.0.0,>=0.12.0->ai21<3.0.0,>=2.14.1->langchain_ai21) (0.4.6)\n",
      "Installing collected packages: sentencepiece, ai21-tokenizer, ai21, langchain_ai21\n",
      "Successfully installed ai21-2.15.1 ai21-tokenizer-0.12.0 langchain_ai21-0.1.9 sentencepiece-0.2.0\n",
      "Note: you may need to restart the kernel to use updated packages.\n"
     ]
    },
    {
     "name": "stderr",
     "output_type": "stream",
     "text": [
      "\n",
      "[notice] A new release of pip available: 22.2.1 -> 24.2\n",
      "[notice] To update, run: python.exe -m pip install --upgrade pip\n"
     ]
    }
   ],
   "source": [
    "%pip install langchain_ai21"
   ]
  },
  {
   "cell_type": "code",
   "execution_count": 42,
   "metadata": {},
   "outputs": [
    {
     "name": "stdout",
     "output_type": "stream",
     "text": [
      "The token has not been saved to the git credentials helper. Pass `add_to_git_credential=True` in this function directly or `--add-to-git-credential` if using via `huggingface-cli` if you want to set the git credential as well.\n",
      "Token is valid (permission: fineGrained).\n",
      "Your token has been saved to C:\\Users\\KathiresanParamasiva\\.cache\\huggingface\\token\n",
      "Login successful\n"
     ]
    }
   ],
   "source": [
    "from langchain_huggingface import HuggingFaceEndpoint\n",
    "from langchain_core.output_parsers import StrOutputParser\n",
    "\n",
    "# LLM\n",
    "llm = HuggingFaceEndpoint(repo_id=\"mistralai/Mistral-7B-Instruct-v0.3\", \n",
    "                          huggingfacehub_api_token=os.environ[\"HUGGINGFACEHUB_API_TOKEN\"]\n",
    "                        )\n",
    "\n",
    "# Chain\n",
    "generate_queries_decompsition = prompt_decomposition | llm | StrOutputParser() | (lambda x: x.split(\"\\n\"))\n",
    "\n",
    "# Run\n",
    "question = input(\"\")\n",
    "questions = generate_queries_decompsition.invoke({\"question\": question})"
   ]
  },
  {
   "cell_type": "code",
   "execution_count": 37,
   "metadata": {},
   "outputs": [
    {
     "data": {
      "text/plain": [
       "['', '- \"Leave types available\"', '- \"Types of leaves available\"', '']"
      ]
     },
     "execution_count": 40,
     "metadata": {},
     "output_type": "execute_result"
    }
   ],
   "source": [
    "questions"
   ]
  },
  {
   "cell_type": "markdown",
   "metadata": {},
   "source": [
    "Answer Recursively"
   ]
  },
  {
   "cell_type": "code",
   "execution_count": null,
   "metadata": {},
   "outputs": [],
   "source": [
    "# Prompt\n",
    "\n",
    "template = \"\"\"You are helpful assistant, Answer the following question based on this context:\n",
    "{context}\n",
    "\n",
    "Question: {question}\"\"\"\n"
   ]
  }
 ],
 "metadata": {
  "kernelspec": {
   "display_name": "rag_scratch",
   "language": "python",
   "name": "python3"
  },
  "language_info": {
   "codemirror_mode": {
    "name": "ipython",
    "version": 3
   },
   "file_extension": ".py",
   "mimetype": "text/x-python",
   "name": "python",
   "nbconvert_exporter": "python",
   "pygments_lexer": "ipython3",
   "version": "3.10.6"
  }
 },
 "nbformat": 4,
 "nbformat_minor": 2
}
